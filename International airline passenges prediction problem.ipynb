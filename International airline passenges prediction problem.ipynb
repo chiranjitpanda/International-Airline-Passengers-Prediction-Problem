{
 "cells": [
  {
   "cell_type": "markdown",
   "id": "e545bef4",
   "metadata": {},
   "source": [
    "####  The international airline passengers prediction problem."
   ]
  },
  {
   "cell_type": "code",
   "execution_count": 1,
   "id": "3fff001f",
   "metadata": {},
   "outputs": [],
   "source": [
    "### This is a problem where given a year and a month, the task is to predict the number of international airline passengers in units of 1,000. The data ranges from January 1949 to December 1960 or 12 years, with 144 observations."
   ]
  },
  {
   "cell_type": "code",
   "execution_count": 1,
   "id": "606c6e36",
   "metadata": {},
   "outputs": [],
   "source": [
    "import pandas as pd\n",
    "import matplotlib.pyplot as plt\n",
    "%matplotlib inline"
   ]
  },
  {
   "cell_type": "code",
   "execution_count": 3,
   "id": "91af3853",
   "metadata": {},
   "outputs": [
    {
     "data": {
      "text/plain": [
       "[<matplotlib.lines.Line2D at 0x12236de2610>]"
      ]
     },
     "execution_count": 3,
     "metadata": {},
     "output_type": "execute_result"
    },
    {
     "data": {
      "image/png": "[encoded data removed]",
      "text/plain": [
       "<Figure size 432x288 with 1 Axes>"
      ]
     },
     "metadata": {
      "needs_background": "light"
     },
     "output_type": "display_data"
    }
   ],
   "source": [
    "dataframe  =pd.read_csv('airline-passengers.csv',usecols=[1],engine='python')\n",
    "dataset = dataframe.values\n",
    "plt.plot(dataset)"
   ]
  },
  {
   "cell_type": "code",
   "execution_count": 26,
   "id": "31dba761",
   "metadata": {},
   "outputs": [
    {
     "data": {
      "text/html": [
       "<div>\n",
       "<style scoped>\n",
       "    .dataframe tbody tr th:only-of-type {\n",
       "        vertical-align: middle;\n",
       "    }\n",
       "\n",
       "    .dataframe tbody tr th {\n",
       "        vertical-align: top;\n",
       "    }\n",
       "\n",
       "    .dataframe thead th {\n",
       "        text-align: right;\n",
       "    }\n",
       "</style>\n",
       "<table border=\"1\" class=\"dataframe\">\n",
       "  <thead>\n",
       "    <tr style=\"text-align: right;\">\n",
       "      <th></th>\n",
       "      <th>Passengers</th>\n",
       "    </tr>\n",
       "  </thead>\n",
       "  <tbody>\n",
       "    <tr>\n",
       "      <th>0</th>\n",
       "      <td>112</td>\n",
       "    </tr>\n",
       "    <tr>\n",
       "      <th>1</th>\n",
       "      <td>118</td>\n",
       "    </tr>\n",
       "    <tr>\n",
       "      <th>2</th>\n",
       "      <td>132</td>\n",
       "    </tr>\n",
       "    <tr>\n",
       "      <th>3</th>\n",
       "      <td>129</td>\n",
       "    </tr>\n",
       "    <tr>\n",
       "      <th>4</th>\n",
       "      <td>121</td>\n",
       "    </tr>\n",
       "  </tbody>\n",
       "</table>\n",
       "</div>"
      ],
      "text/plain": [
       "   Passengers\n",
       "0         112\n",
       "1         118\n",
       "2         132\n",
       "3         129\n",
       "4         121"
      ]
     },
     "execution_count": 26,
     "metadata": {},
     "output_type": "execute_result"
    }
   ],
   "source": [
    "dataframe.head()"
   ]
  },
  {
   "cell_type": "markdown",
   "id": "d015c11a",
   "metadata": {},
   "source": [
    "### we can see an upward trend in the plot."
   ]
  },
  {
   "cell_type": "code",
   "execution_count": 4,
   "id": "0ed34a10",
   "metadata": {
    "scrolled": true
   },
   "outputs": [
    {
     "data": {
      "text/plain": [
       "(144, 1)"
      ]
     },
     "execution_count": 4,
     "metadata": {},
     "output_type": "execute_result"
    }
   ],
   "source": [
    "dataset.shape"
   ]
  },
  {
   "cell_type": "code",
   "execution_count": 6,
   "id": "6d484087",
   "metadata": {},
   "outputs": [
    {
     "data": {
      "text/html": [
       "<div>\n",
       "<style scoped>\n",
       "    .dataframe tbody tr th:only-of-type {\n",
       "        vertical-align: middle;\n",
       "    }\n",
       "\n",
       "    .dataframe tbody tr th {\n",
       "        vertical-align: top;\n",
       "    }\n",
       "\n",
       "    .dataframe thead th {\n",
       "        text-align: right;\n",
       "    }\n",
       "</style>\n",
       "<table border=\"1\" class=\"dataframe\">\n",
       "  <thead>\n",
       "    <tr style=\"text-align: right;\">\n",
       "      <th></th>\n",
       "      <th>Passengers</th>\n",
       "    </tr>\n",
       "  </thead>\n",
       "  <tbody>\n",
       "    <tr>\n",
       "      <th>0</th>\n",
       "      <td>112</td>\n",
       "    </tr>\n",
       "    <tr>\n",
       "      <th>1</th>\n",
       "      <td>118</td>\n",
       "    </tr>\n",
       "    <tr>\n",
       "      <th>2</th>\n",
       "      <td>132</td>\n",
       "    </tr>\n",
       "    <tr>\n",
       "      <th>3</th>\n",
       "      <td>129</td>\n",
       "    </tr>\n",
       "    <tr>\n",
       "      <th>4</th>\n",
       "      <td>121</td>\n",
       "    </tr>\n",
       "  </tbody>\n",
       "</table>\n",
       "</div>"
      ],
      "text/plain": [
       "   Passengers\n",
       "0         112\n",
       "1         118\n",
       "2         132\n",
       "3         129\n",
       "4         121"
      ]
     },
     "execution_count": 6,
     "metadata": {},
     "output_type": "execute_result"
    }
   ],
   "source": [
    "dataset = dataset.astype('float')\n",
    "dataframe.head()"
   ]
  },
  {
   "cell_type": "code",
   "execution_count": null,
   "id": "b4e79ee9",
   "metadata": {},
   "outputs": [],
   "source": []
  },
  {
   "cell_type": "code",
   "execution_count": 7,
   "id": "4dd6c437",
   "metadata": {},
   "outputs": [
    {
     "data": {
      "text/plain": [
       "144"
      ]
     },
     "execution_count": 7,
     "metadata": {},
     "output_type": "execute_result"
    }
   ],
   "source": [
    "len(dataset)"
   ]
  },
  {
   "cell_type": "code",
   "execution_count": 8,
   "id": "ec1508c8",
   "metadata": {},
   "outputs": [],
   "source": [
    "import numpy as np\n",
    "import tensorflow as tf\n",
    "from tensorflow.keras.models import Sequential\n",
    "from tensorflow.keras.layers import Dense,LSTM"
   ]
  },
  {
   "cell_type": "code",
   "execution_count": 9,
   "id": "b5e2a888",
   "metadata": {},
   "outputs": [
    {
     "name": "stdout",
     "output_type": "stream",
     "text": [
      "96 48\n"
     ]
    }
   ],
   "source": [
    "# split into train and test sets\n",
    "train_size = int(len(dataset) * 0.67)\n",
    "test_size = len(dataset) - train_size\n",
    "train, test = dataset[0:train_size,:], dataset[train_size:len(dataset),:]\n",
    "print(len(train), len(test))"
   ]
  },
  {
   "cell_type": "code",
   "execution_count": 20,
   "id": "05b959a6",
   "metadata": {},
   "outputs": [],
   "source": [
    "### convert an array of values into a dataset matrix\n",
    "def create_dataset(dataset, look_back =1):\n",
    "    datax= []\n",
    "    datay =[]\n",
    "    for i in range(len(dataset)-loock_back-1):\n",
    "        a = dataset[i:(i+loock_back),0]\n",
    "        datax.append(a)\n",
    "        datay.append(dataset[i+loock_back,0])\n",
    "    return np.array(datax),np.array(datay)"
   ]
  },
  {
   "cell_type": "code",
   "execution_count": 23,
   "id": "8aee49cd",
   "metadata": {},
   "outputs": [],
   "source": [
    "## reshape into X=T , y= T+1\n",
    "loock_back = 1\n",
    "X_train,y_train  = create_dataset(train,loock_back)\n",
    "X_test,y_test  =create_dataset(test,loock_back)"
   ]
  },
  {
   "cell_type": "code",
   "execution_count": 34,
   "id": "fa43a51e",
   "metadata": {},
   "outputs": [
    {
     "data": {
      "text/plain": [
       "((94, 1), (94,))"
      ]
     },
     "execution_count": 34,
     "metadata": {},
     "output_type": "execute_result"
    }
   ],
   "source": [
    "X_train.shape , y_train.shape"
   ]
  },
  {
   "cell_type": "code",
   "execution_count": 28,
   "id": "f378433e",
   "metadata": {},
   "outputs": [],
   "source": [
    "### creating the model\n",
    "model = Sequential()\n",
    "model.add(Dense(8,input_dim = loock_back,activation = 'relu'))\n",
    "model.add(Dense(1))\n",
    "model.compile(loss='mean_squared_error',optimizer='adam')"
   ]
  },
  {
   "cell_type": "code",
   "execution_count": 30,
   "id": "5521106d",
   "metadata": {},
   "outputs": [
    {
     "name": "stdout",
     "output_type": "stream",
     "text": [
      "Epoch 1/200\n",
      "3/3 [==============================] - 0s 38ms/step - loss: 534.5691 - val_loss: 2361.6746\n",
      "Epoch 2/200\n",
      "3/3 [==============================] - 0s 16ms/step - loss: 534.5519 - val_loss: 2361.6804\n",
      "Epoch 3/200\n",
      "3/3 [==============================] - 0s 21ms/step - loss: 534.5914 - val_loss: 2361.7561\n",
      "Epoch 4/200\n",
      "3/3 [==============================] - 0s 18ms/step - loss: 534.5834 - val_loss: 2361.8135\n",
      "Epoch 5/200\n",
      "3/3 [==============================] - 0s 20ms/step - loss: 534.6647 - val_loss: 2361.7112\n",
      "Epoch 6/200\n",
      "3/3 [==============================] - 0s 19ms/step - loss: 534.5709 - val_loss: 2361.7559\n",
      "Epoch 7/200\n",
      "3/3 [==============================] - 0s 20ms/step - loss: 534.5667 - val_loss: 2361.7937\n",
      "Epoch 8/200\n",
      "3/3 [==============================] - 0s 22ms/step - loss: 534.5488 - val_loss: 2361.7844\n",
      "Epoch 9/200\n",
      "3/3 [==============================] - 0s 20ms/step - loss: 534.5607 - val_loss: 2361.8013\n",
      "Epoch 10/200\n",
      "3/3 [==============================] - 0s 19ms/step - loss: 534.5547 - val_loss: 2361.7864\n",
      "Epoch 11/200\n",
      "3/3 [==============================] - 0s 17ms/step - loss: 534.5770 - val_loss: 2361.8398\n",
      "Epoch 12/200\n",
      "3/3 [==============================] - 0s 19ms/step - loss: 534.5643 - val_loss: 2361.8796\n",
      "Epoch 13/200\n",
      "3/3 [==============================] - 0s 19ms/step - loss: 534.5673 - val_loss: 2361.8501\n",
      "Epoch 14/200\n",
      "3/3 [==============================] - 0s 21ms/step - loss: 534.5409 - val_loss: 2361.8550\n",
      "Epoch 15/200\n",
      "3/3 [==============================] - 0s 22ms/step - loss: 534.5425 - val_loss: 2361.8298\n",
      "Epoch 16/200\n",
      "3/3 [==============================] - 0s 23ms/step - loss: 534.5545 - val_loss: 2361.8459\n",
      "Epoch 17/200\n",
      "3/3 [==============================] - 0s 19ms/step - loss: 534.5466 - val_loss: 2361.8474\n",
      "Epoch 18/200\n",
      "3/3 [==============================] - 0s 18ms/step - loss: 534.5829 - val_loss: 2361.7700\n",
      "Epoch 19/200\n",
      "3/3 [==============================] - 0s 22ms/step - loss: 534.5740 - val_loss: 2361.7898\n",
      "Epoch 20/200\n",
      "3/3 [==============================] - 0s 21ms/step - loss: 534.5966 - val_loss: 2361.8479\n",
      "Epoch 21/200\n",
      "3/3 [==============================] - 0s 20ms/step - loss: 534.5394 - val_loss: 2361.8359\n",
      "Epoch 22/200\n",
      "3/3 [==============================] - 0s 19ms/step - loss: 534.5587 - val_loss: 2361.7969\n",
      "Epoch 23/200\n",
      "3/3 [==============================] - 0s 20ms/step - loss: 534.5505 - val_loss: 2361.8313\n",
      "Epoch 24/200\n",
      "3/3 [==============================] - 0s 23ms/step - loss: 534.5668 - val_loss: 2361.8669\n",
      "Epoch 25/200\n",
      "3/3 [==============================] - 0s 20ms/step - loss: 534.5626 - val_loss: 2361.7986\n",
      "Epoch 26/200\n",
      "3/3 [==============================] - ETA: 0s - loss: 462.847 - 0s 22ms/step - loss: 534.5581 - val_loss: 2361.8391\n",
      "Epoch 27/200\n",
      "3/3 [==============================] - 0s 21ms/step - loss: 534.5327 - val_loss: 2361.8350\n",
      "Epoch 28/200\n",
      "3/3 [==============================] - 0s 23ms/step - loss: 534.5538 - val_loss: 2361.8186\n",
      "Epoch 29/200\n",
      "3/3 [==============================] - 0s 20ms/step - loss: 534.6177 - val_loss: 2361.7153\n",
      "Epoch 30/200\n",
      "3/3 [==============================] - 0s 28ms/step - loss: 534.6189 - val_loss: 2361.7854\n",
      "Epoch 31/200\n",
      "3/3 [==============================] - 0s 17ms/step - loss: 534.5447 - val_loss: 2361.8228\n",
      "Epoch 32/200\n",
      "3/3 [==============================] - 0s 19ms/step - loss: 534.5667 - val_loss: 2361.7737\n",
      "Epoch 33/200\n",
      "3/3 [==============================] - 0s 21ms/step - loss: 534.5406 - val_loss: 2361.7744\n",
      "Epoch 34/200\n",
      "3/3 [==============================] - 0s 22ms/step - loss: 534.5408 - val_loss: 2361.7656\n",
      "Epoch 35/200\n",
      "3/3 [==============================] - 0s 19ms/step - loss: 534.5566 - val_loss: 2361.7161\n",
      "Epoch 36/200\n",
      "3/3 [==============================] - 0s 21ms/step - loss: 534.5593 - val_loss: 2361.7324\n",
      "Epoch 37/200\n",
      "3/3 [==============================] - 0s 20ms/step - loss: 534.5510 - val_loss: 2361.7996\n",
      "Epoch 38/200\n",
      "3/3 [==============================] - 0s 21ms/step - loss: 534.5280 - val_loss: 2361.7959\n",
      "Epoch 39/200\n",
      "3/3 [==============================] - 0s 21ms/step - loss: 534.5201 - val_loss: 2361.7815\n",
      "Epoch 40/200\n",
      "3/3 [==============================] - 0s 19ms/step - loss: 534.5991 - val_loss: 2361.7000\n",
      "Epoch 41/200\n",
      "3/3 [==============================] - 0s 23ms/step - loss: 534.5500 - val_loss: 2361.7185\n",
      "Epoch 42/200\n",
      "3/3 [==============================] - 0s 19ms/step - loss: 534.5274 - val_loss: 2361.7092\n",
      "Epoch 43/200\n",
      "3/3 [==============================] - 0s 18ms/step - loss: 534.5809 - val_loss: 2361.8069\n",
      "Epoch 44/200\n",
      "3/3 [==============================] - 0s 22ms/step - loss: 534.5743 - val_loss: 2361.7544\n",
      "Epoch 45/200\n",
      "3/3 [==============================] - 0s 24ms/step - loss: 534.5657 - val_loss: 2361.8340\n",
      "Epoch 46/200\n",
      "3/3 [==============================] - 0s 23ms/step - loss: 534.5684 - val_loss: 2361.7776\n",
      "Epoch 47/200\n",
      "3/3 [==============================] - 0s 22ms/step - loss: 534.5618 - val_loss: 2361.8376\n",
      "Epoch 48/200\n",
      "3/3 [==============================] - 0s 23ms/step - loss: 534.5284 - val_loss: 2361.8445\n",
      "Epoch 49/200\n",
      "3/3 [==============================] - 0s 25ms/step - loss: 534.7014 - val_loss: 2361.7339\n",
      "Epoch 50/200\n",
      "3/3 [==============================] - 0s 27ms/step - loss: 534.5096 - val_loss: 2361.7952\n",
      "Epoch 51/200\n",
      "3/3 [==============================] - 0s 22ms/step - loss: 534.5301 - val_loss: 2361.7961\n",
      "Epoch 52/200\n",
      "3/3 [==============================] - 0s 25ms/step - loss: 534.5636 - val_loss: 2361.7659\n",
      "Epoch 53/200\n",
      "3/3 [==============================] - 0s 23ms/step - loss: 534.5105 - val_loss: 2361.7803\n",
      "Epoch 54/200\n",
      "3/3 [==============================] - 0s 22ms/step - loss: 534.5145 - val_loss: 2361.8513\n",
      "Epoch 55/200\n",
      "3/3 [==============================] - 0s 20ms/step - loss: 534.5213 - val_loss: 2361.8640\n",
      "Epoch 56/200\n",
      "3/3 [==============================] - 0s 17ms/step - loss: 534.5087 - val_loss: 2361.9116\n",
      "Epoch 57/200\n",
      "3/3 [==============================] - 0s 20ms/step - loss: 534.6698 - val_loss: 2361.7959\n",
      "Epoch 58/200\n",
      "3/3 [==============================] - 0s 21ms/step - loss: 534.5203 - val_loss: 2361.8350\n",
      "Epoch 59/200\n",
      "3/3 [==============================] - 0s 20ms/step - loss: 534.5044 - val_loss: 2361.8811\n",
      "Epoch 60/200\n",
      "3/3 [==============================] - 0s 18ms/step - loss: 534.6575 - val_loss: 2362.0466\n",
      "Epoch 61/200\n",
      "3/3 [==============================] - 0s 20ms/step - loss: 534.5388 - val_loss: 2362.0989\n",
      "Epoch 62/200\n",
      "3/3 [==============================] - 0s 20ms/step - loss: 534.6223 - val_loss: 2362.1882\n",
      "Epoch 63/200\n",
      "3/3 [==============================] - 0s 19ms/step - loss: 534.5034 - val_loss: 2362.1023\n",
      "Epoch 64/200\n",
      "3/3 [==============================] - 0s 21ms/step - loss: 534.5836 - val_loss: 2362.0251\n",
      "Epoch 65/200\n",
      "3/3 [==============================] - 0s 21ms/step - loss: 534.5794 - val_loss: 2361.8828\n",
      "Epoch 66/200\n",
      "3/3 [==============================] - 0s 20ms/step - loss: 534.5412 - val_loss: 2361.9348\n",
      "Epoch 67/200\n",
      "3/3 [==============================] - 0s 22ms/step - loss: 534.5414 - val_loss: 2361.8408\n",
      "Epoch 68/200\n",
      "3/3 [==============================] - 0s 18ms/step - loss: 534.5455 - val_loss: 2361.7610\n",
      "Epoch 69/200\n",
      "3/3 [==============================] - 0s 21ms/step - loss: 534.5514 - val_loss: 2361.8462\n",
      "Epoch 70/200\n",
      "3/3 [==============================] - 0s 24ms/step - loss: 534.6711 - val_loss: 2361.6968\n",
      "Epoch 71/200\n",
      "3/3 [==============================] - 0s 23ms/step - loss: 534.5184 - val_loss: 2361.6719\n",
      "Epoch 72/200\n",
      "3/3 [==============================] - 0s 19ms/step - loss: 534.5270 - val_loss: 2361.6711\n",
      "Epoch 73/200\n",
      "3/3 [==============================] - 0s 18ms/step - loss: 534.5519 - val_loss: 2361.7935\n",
      "Epoch 74/200\n",
      "3/3 [==============================] - 0s 17ms/step - loss: 534.4912 - val_loss: 2361.8240\n",
      "Epoch 75/200\n",
      "3/3 [==============================] - 0s 22ms/step - loss: 534.4901 - val_loss: 2361.8267\n",
      "Epoch 76/200\n",
      "3/3 [==============================] - 0s 20ms/step - loss: 534.4935 - val_loss: 2361.8584\n",
      "Epoch 77/200\n",
      "3/3 [==============================] - 0s 19ms/step - loss: 534.5049 - val_loss: 2361.8240\n",
      "Epoch 78/200\n",
      "3/3 [==============================] - 0s 20ms/step - loss: 534.4868 - val_loss: 2361.8345\n",
      "Epoch 79/200\n"
     ]
    },
    {
     "name": "stdout",
     "output_type": "stream",
     "text": [
      "3/3 [==============================] - 0s 22ms/step - loss: 534.5424 - val_loss: 2361.9148\n",
      "Epoch 80/200\n",
      "3/3 [==============================] - 0s 18ms/step - loss: 534.5533 - val_loss: 2361.8027\n",
      "Epoch 81/200\n",
      "3/3 [==============================] - 0s 21ms/step - loss: 534.5479 - val_loss: 2361.7209\n",
      "Epoch 82/200\n",
      "3/3 [==============================] - 0s 20ms/step - loss: 534.5200 - val_loss: 2361.7046\n",
      "Epoch 83/200\n",
      "3/3 [==============================] - 0s 18ms/step - loss: 534.5439 - val_loss: 2361.8188\n",
      "Epoch 84/200\n",
      "3/3 [==============================] - 0s 17ms/step - loss: 534.5565 - val_loss: 2361.8640\n",
      "Epoch 85/200\n",
      "3/3 [==============================] - 0s 19ms/step - loss: 534.6263 - val_loss: 2361.7258\n",
      "Epoch 86/200\n",
      "3/3 [==============================] - 0s 19ms/step - loss: 534.5057 - val_loss: 2361.8032\n",
      "Epoch 87/200\n",
      "3/3 [==============================] - 0s 19ms/step - loss: 534.5272 - val_loss: 2361.7646\n",
      "Epoch 88/200\n",
      "3/3 [==============================] - 0s 21ms/step - loss: 534.4821 - val_loss: 2361.8088\n",
      "Epoch 89/200\n",
      "3/3 [==============================] - 0s 19ms/step - loss: 534.4996 - val_loss: 2361.7610\n",
      "Epoch 90/200\n",
      "3/3 [==============================] - 0s 19ms/step - loss: 534.4943 - val_loss: 2361.7927\n",
      "Epoch 91/200\n",
      "3/3 [==============================] - 0s 18ms/step - loss: 534.4911 - val_loss: 2361.7974\n",
      "Epoch 92/200\n",
      "3/3 [==============================] - 0s 18ms/step - loss: 534.4763 - val_loss: 2361.8203\n",
      "Epoch 93/200\n",
      "3/3 [==============================] - 0s 18ms/step - loss: 534.4954 - val_loss: 2361.7761\n",
      "Epoch 94/200\n",
      "3/3 [==============================] - 0s 19ms/step - loss: 534.4766 - val_loss: 2361.8037\n",
      "Epoch 95/200\n",
      "3/3 [==============================] - 0s 18ms/step - loss: 534.5101 - val_loss: 2361.7798\n",
      "Epoch 96/200\n",
      "3/3 [==============================] - 0s 17ms/step - loss: 534.4709 - val_loss: 2361.7827\n",
      "Epoch 97/200\n",
      "3/3 [==============================] - 0s 17ms/step - loss: 534.4708 - val_loss: 2361.7710\n",
      "Epoch 98/200\n",
      "3/3 [==============================] - 0s 18ms/step - loss: 534.4856 - val_loss: 2361.7734\n",
      "Epoch 99/200\n",
      "3/3 [==============================] - 0s 18ms/step - loss: 534.4700 - val_loss: 2361.7905\n",
      "Epoch 100/200\n",
      "3/3 [==============================] - 0s 18ms/step - loss: 534.5248 - val_loss: 2361.6973\n",
      "Epoch 101/200\n",
      "3/3 [==============================] - 0s 19ms/step - loss: 534.5150 - val_loss: 2361.7820\n",
      "Epoch 102/200\n",
      "3/3 [==============================] - 0s 18ms/step - loss: 534.4713 - val_loss: 2361.7524\n",
      "Epoch 103/200\n",
      "3/3 [==============================] - 0s 18ms/step - loss: 534.4794 - val_loss: 2361.7014\n",
      "Epoch 104/200\n",
      "3/3 [==============================] - 0s 18ms/step - loss: 534.5335 - val_loss: 2361.6338\n",
      "Epoch 105/200\n",
      "3/3 [==============================] - 0s 19ms/step - loss: 534.4814 - val_loss: 2361.6213\n",
      "Epoch 106/200\n",
      "3/3 [==============================] - 0s 20ms/step - loss: 534.4587 - val_loss: 2361.6304\n",
      "Epoch 107/200\n",
      "3/3 [==============================] - 0s 20ms/step - loss: 534.6097 - val_loss: 2361.5488\n",
      "Epoch 108/200\n",
      "3/3 [==============================] - 0s 20ms/step - loss: 534.5029 - val_loss: 2361.5305\n",
      "Epoch 109/200\n",
      "3/3 [==============================] - 0s 18ms/step - loss: 534.5286 - val_loss: 2361.6816\n",
      "Epoch 110/200\n",
      "3/3 [==============================] - 0s 20ms/step - loss: 534.5123 - val_loss: 2361.6387\n",
      "Epoch 111/200\n",
      "3/3 [==============================] - 0s 22ms/step - loss: 534.4845 - val_loss: 2361.6221\n",
      "Epoch 112/200\n",
      "3/3 [==============================] - 0s 21ms/step - loss: 534.4534 - val_loss: 2361.6687\n",
      "Epoch 113/200\n",
      "3/3 [==============================] - 0s 18ms/step - loss: 534.4861 - val_loss: 2361.7808\n",
      "Epoch 114/200\n",
      "3/3 [==============================] - 0s 19ms/step - loss: 534.4713 - val_loss: 2361.8022\n",
      "Epoch 115/200\n",
      "3/3 [==============================] - 0s 20ms/step - loss: 534.4844 - val_loss: 2361.8696\n",
      "Epoch 116/200\n",
      "3/3 [==============================] - 0s 22ms/step - loss: 534.4628 - val_loss: 2361.8438\n",
      "Epoch 117/200\n",
      "3/3 [==============================] - 0s 20ms/step - loss: 534.5911 - val_loss: 2361.9507\n",
      "Epoch 118/200\n",
      "3/3 [==============================] - 0s 19ms/step - loss: 534.5756 - val_loss: 2361.8069\n",
      "Epoch 119/200\n",
      "3/3 [==============================] - 0s 19ms/step - loss: 534.5153 - val_loss: 2361.7954\n",
      "Epoch 120/200\n",
      "3/3 [==============================] - 0s 19ms/step - loss: 534.4479 - val_loss: 2361.7927\n",
      "Epoch 121/200\n",
      "3/3 [==============================] - 0s 19ms/step - loss: 534.4660 - val_loss: 2361.8293\n",
      "Epoch 122/200\n",
      "3/3 [==============================] - 0s 19ms/step - loss: 534.4737 - val_loss: 2361.7449\n",
      "Epoch 123/200\n",
      "3/3 [==============================] - 0s 18ms/step - loss: 534.4430 - val_loss: 2361.7371\n",
      "Epoch 124/200\n",
      "3/3 [==============================] - 0s 20ms/step - loss: 534.4611 - val_loss: 2361.7405\n",
      "Epoch 125/200\n",
      "3/3 [==============================] - 0s 18ms/step - loss: 534.4531 - val_loss: 2361.7544\n",
      "Epoch 126/200\n",
      "3/3 [==============================] - 0s 18ms/step - loss: 534.5809 - val_loss: 2361.6152\n",
      "Epoch 127/200\n",
      "3/3 [==============================] - 0s 21ms/step - loss: 534.4570 - val_loss: 2361.6560\n",
      "Epoch 128/200\n",
      "3/3 [==============================] - 0s 19ms/step - loss: 534.4727 - val_loss: 2361.6123\n",
      "Epoch 129/200\n",
      "3/3 [==============================] - 0s 20ms/step - loss: 534.4735 - val_loss: 2361.6367\n",
      "Epoch 130/200\n",
      "3/3 [==============================] - 0s 24ms/step - loss: 534.4725 - val_loss: 2361.7097\n",
      "Epoch 131/200\n",
      "3/3 [==============================] - 0s 20ms/step - loss: 534.6534 - val_loss: 2361.8533\n",
      "Epoch 132/200\n",
      "3/3 [==============================] - 0s 23ms/step - loss: 534.4450 - val_loss: 2361.8206\n",
      "Epoch 133/200\n",
      "3/3 [==============================] - 0s 22ms/step - loss: 534.6326 - val_loss: 2361.6077\n",
      "Epoch 134/200\n",
      "3/3 [==============================] - 0s 20ms/step - loss: 534.4632 - val_loss: 2361.6594\n",
      "Epoch 135/200\n",
      "3/3 [==============================] - 0s 20ms/step - loss: 534.4445 - val_loss: 2361.5881\n",
      "Epoch 136/200\n",
      "3/3 [==============================] - 0s 21ms/step - loss: 534.4895 - val_loss: 2361.5027\n",
      "Epoch 137/200\n",
      "3/3 [==============================] - 0s 22ms/step - loss: 534.4587 - val_loss: 2361.5767\n",
      "Epoch 138/200\n",
      "3/3 [==============================] - 0s 22ms/step - loss: 534.5084 - val_loss: 2361.6589\n",
      "Epoch 139/200\n",
      "3/3 [==============================] - 0s 21ms/step - loss: 534.4688 - val_loss: 2361.5649\n",
      "Epoch 140/200\n",
      "3/3 [==============================] - 0s 20ms/step - loss: 534.4476 - val_loss: 2361.5159\n",
      "Epoch 141/200\n",
      "3/3 [==============================] - 0s 19ms/step - loss: 534.6180 - val_loss: 2361.3826\n",
      "Epoch 142/200\n",
      "3/3 [==============================] - 0s 19ms/step - loss: 534.4710 - val_loss: 2361.3662\n",
      "Epoch 143/200\n",
      "3/3 [==============================] - 0s 19ms/step - loss: 534.4227 - val_loss: 2361.4377\n",
      "Epoch 144/200\n",
      "3/3 [==============================] - 0s 20ms/step - loss: 534.4152 - val_loss: 2361.4807\n",
      "Epoch 145/200\n",
      "3/3 [==============================] - 0s 17ms/step - loss: 534.4404 - val_loss: 2361.5017\n",
      "Epoch 146/200\n",
      "3/3 [==============================] - 0s 19ms/step - loss: 534.5281 - val_loss: 2361.6660\n",
      "Epoch 147/200\n",
      "3/3 [==============================] - 0s 17ms/step - loss: 534.6055 - val_loss: 2361.5242\n",
      "Epoch 148/200\n",
      "3/3 [==============================] - 0s 19ms/step - loss: 534.4158 - val_loss: 2361.5637\n",
      "Epoch 149/200\n",
      "3/3 [==============================] - 0s 17ms/step - loss: 534.4188 - val_loss: 2361.6243\n",
      "Epoch 150/200\n",
      "3/3 [==============================] - 0s 20ms/step - loss: 534.5820 - val_loss: 2361.5325\n",
      "Epoch 151/200\n",
      "3/3 [==============================] - 0s 20ms/step - loss: 534.5594 - val_loss: 2361.4722\n",
      "Epoch 152/200\n",
      "3/3 [==============================] - 0s 21ms/step - loss: 534.4229 - val_loss: 2361.5808\n",
      "Epoch 153/200\n",
      "3/3 [==============================] - 0s 21ms/step - loss: 534.8566 - val_loss: 2361.8950\n",
      "Epoch 154/200\n",
      "3/3 [==============================] - 0s 20ms/step - loss: 534.4521 - val_loss: 2361.8579\n",
      "Epoch 155/200\n",
      "3/3 [==============================] - 0s 23ms/step - loss: 534.5768 - val_loss: 2361.7390\n",
      "Epoch 156/200\n",
      "3/3 [==============================] - 0s 17ms/step - loss: 534.4277 - val_loss: 2361.7888\n",
      "Epoch 157/200\n"
     ]
    },
    {
     "name": "stdout",
     "output_type": "stream",
     "text": [
      "3/3 [==============================] - 0s 17ms/step - loss: 534.4244 - val_loss: 2361.8052\n",
      "Epoch 158/200\n",
      "3/3 [==============================] - 0s 19ms/step - loss: 534.4477 - val_loss: 2361.8774\n",
      "Epoch 159/200\n",
      "3/3 [==============================] - 0s 18ms/step - loss: 534.4722 - val_loss: 2361.8560\n",
      "Epoch 160/200\n",
      "3/3 [==============================] - 0s 22ms/step - loss: 534.4442 - val_loss: 2361.7559\n",
      "Epoch 161/200\n",
      "3/3 [==============================] - 0s 19ms/step - loss: 534.4325 - val_loss: 2361.7588\n",
      "Epoch 162/200\n",
      "3/3 [==============================] - 0s 18ms/step - loss: 534.4350 - val_loss: 2361.7236\n",
      "Epoch 163/200\n",
      "3/3 [==============================] - 0s 19ms/step - loss: 534.5105 - val_loss: 2361.5806\n",
      "Epoch 164/200\n",
      "3/3 [==============================] - 0s 21ms/step - loss: 534.4493 - val_loss: 2361.6526\n",
      "Epoch 165/200\n",
      "3/3 [==============================] - 0s 17ms/step - loss: 534.4386 - val_loss: 2361.5837\n",
      "Epoch 166/200\n",
      "3/3 [==============================] - 0s 19ms/step - loss: 534.5958 - val_loss: 2361.7395\n",
      "Epoch 167/200\n",
      "3/3 [==============================] - 0s 17ms/step - loss: 534.4938 - val_loss: 2361.7627\n",
      "Epoch 168/200\n",
      "3/3 [==============================] - 0s 19ms/step - loss: 534.3933 - val_loss: 2361.6594\n",
      "Epoch 169/200\n",
      "3/3 [==============================] - 0s 18ms/step - loss: 534.4568 - val_loss: 2361.5437\n",
      "Epoch 170/200\n",
      "3/3 [==============================] - 0s 21ms/step - loss: 534.5247 - val_loss: 2361.6326\n",
      "Epoch 171/200\n",
      "3/3 [==============================] - 0s 17ms/step - loss: 534.4081 - val_loss: 2361.5869\n",
      "Epoch 172/200\n",
      "3/3 [==============================] - 0s 19ms/step - loss: 534.4581 - val_loss: 2361.4766\n",
      "Epoch 173/200\n",
      "3/3 [==============================] - 0s 43ms/step - loss: 534.5339 - val_loss: 2361.3081\n",
      "Epoch 174/200\n",
      "3/3 [==============================] - 0s 19ms/step - loss: 534.5479 - val_loss: 2361.1702\n",
      "Epoch 175/200\n",
      "3/3 [==============================] - 0s 17ms/step - loss: 534.4595 - val_loss: 2361.1201\n",
      "Epoch 176/200\n",
      "3/3 [==============================] - 0s 18ms/step - loss: 534.3874 - val_loss: 2361.1555\n",
      "Epoch 177/200\n",
      "3/3 [==============================] - 0s 17ms/step - loss: 534.7335 - val_loss: 2361.3831\n",
      "Epoch 178/200\n",
      "3/3 [==============================] - 0s 17ms/step - loss: 534.4398 - val_loss: 2361.4463\n",
      "Epoch 179/200\n",
      "3/3 [==============================] - 0s 18ms/step - loss: 534.3807 - val_loss: 2361.3936\n",
      "Epoch 180/200\n",
      "3/3 [==============================] - 0s 18ms/step - loss: 534.3870 - val_loss: 2361.3389\n",
      "Epoch 181/200\n",
      "3/3 [==============================] - 0s 18ms/step - loss: 534.4907 - val_loss: 2361.2654\n",
      "Epoch 182/200\n",
      "3/3 [==============================] - 0s 20ms/step - loss: 534.4130 - val_loss: 2361.2998\n",
      "Epoch 183/200\n",
      "3/3 [==============================] - 0s 18ms/step - loss: 534.3778 - val_loss: 2361.3123\n",
      "Epoch 184/200\n",
      "3/3 [==============================] - 0s 21ms/step - loss: 534.4327 - val_loss: 2361.2710\n",
      "Epoch 185/200\n",
      "3/3 [==============================] - 0s 21ms/step - loss: 534.3799 - val_loss: 2361.2812\n",
      "Epoch 186/200\n",
      "3/3 [==============================] - 0s 19ms/step - loss: 534.3731 - val_loss: 2361.3127\n",
      "Epoch 187/200\n",
      "3/3 [==============================] - 0s 19ms/step - loss: 534.4805 - val_loss: 2361.4514\n",
      "Epoch 188/200\n",
      "3/3 [==============================] - 0s 22ms/step - loss: 534.5820 - val_loss: 2361.6074\n",
      "Epoch 189/200\n",
      "3/3 [==============================] - 0s 19ms/step - loss: 534.4399 - val_loss: 2361.4507\n",
      "Epoch 190/200\n",
      "3/3 [==============================] - 0s 20ms/step - loss: 534.4626 - val_loss: 2361.3186\n",
      "Epoch 191/200\n",
      "3/3 [==============================] - 0s 20ms/step - loss: 534.3734 - val_loss: 2361.3223\n",
      "Epoch 192/200\n",
      "3/3 [==============================] - 0s 20ms/step - loss: 534.3681 - val_loss: 2361.3118\n",
      "Epoch 193/200\n",
      "3/3 [==============================] - 0s 20ms/step - loss: 534.4566 - val_loss: 2361.4209\n",
      "Epoch 194/200\n",
      "3/3 [==============================] - 0s 22ms/step - loss: 534.7006 - val_loss: 2361.6172\n",
      "Epoch 195/200\n",
      "3/3 [==============================] - 0s 23ms/step - loss: 534.3644 - val_loss: 2361.5125\n",
      "Epoch 196/200\n",
      "3/3 [==============================] - 0s 21ms/step - loss: 534.4382 - val_loss: 2361.5610\n",
      "Epoch 197/200\n",
      "3/3 [==============================] - 0s 22ms/step - loss: 534.3653 - val_loss: 2361.5154\n",
      "Epoch 198/200\n",
      "3/3 [==============================] - 0s 20ms/step - loss: 534.3983 - val_loss: 2361.3938\n",
      "Epoch 199/200\n",
      "3/3 [==============================] - 0s 21ms/step - loss: 534.3946 - val_loss: 2361.2776\n",
      "Epoch 200/200\n",
      "3/3 [==============================] - 0s 19ms/step - loss: 534.5367 - val_loss: 2361.1233\n"
     ]
    },
    {
     "data": {
      "text/plain": [
       "<tensorflow.python.keras.callbacks.History at 0x12244f41940>"
      ]
     },
     "execution_count": 30,
     "metadata": {},
     "output_type": "execute_result"
    }
   ],
   "source": [
    "model.fit(X_train,y_train,epochs= 200,batch_size = 32,verbose=1,validation_data = (X_test,y_test))"
   ]
  },
  {
   "cell_type": "code",
   "execution_count": 31,
   "id": "2bca381e",
   "metadata": {},
   "outputs": [],
   "source": [
    "### estimate model performance\n",
    "train_predict =  model.predict(X_train)\n",
    "test_predict  =model.predict(X_test)"
   ]
  },
  {
   "cell_type": "code",
   "execution_count": 32,
   "id": "edb79f5a",
   "metadata": {},
   "outputs": [
    {
     "data": {
      "text/plain": [
       "array([[112.61676 ],\n",
       "       [118.59675 ],\n",
       "       [132.55005 ],\n",
       "       [129.56004 ],\n",
       "       [121.58675 ],\n",
       "       [135.54004 ],\n",
       "       [148.49667 ],\n",
       "       [148.49667 ],\n",
       "       [136.53671 ],\n",
       "       [119.593414],\n",
       "       [104.64344 ],\n",
       "       [118.59675 ],\n",
       "       [115.60676 ],\n",
       "       [126.57007 ],\n",
       "       [141.52005 ],\n",
       "       [135.54004 ],\n",
       "       [125.5734  ],\n",
       "       [149.49335 ],\n",
       "       [170.42331 ],\n",
       "       [170.42331 ],\n",
       "       [158.46332 ],\n",
       "       [133.54672 ],\n",
       "       [114.61009 ],\n",
       "       [140.52338 ],\n",
       "       [145.50668 ],\n",
       "       [150.49002 ],\n",
       "       [178.39664 ],\n",
       "       [163.44666 ],\n",
       "       [172.41663 ],\n",
       "       [178.39664 ],\n",
       "       [199.3266  ],\n",
       "       [199.3266  ],\n",
       "       [184.3766  ],\n",
       "       [162.44998 ],\n",
       "       [146.50334 ],\n",
       "       [166.43666 ],\n",
       "       [171.41997 ],\n",
       "       [180.38997 ],\n",
       "       [193.3466  ],\n",
       "       [181.38663 ],\n",
       "       [183.37996 ],\n",
       "       [218.26323 ],\n",
       "       [230.2232  ],\n",
       "       [242.18318 ],\n",
       "       [209.29324 ],\n",
       "       [191.35327 ],\n",
       "       [172.41663 ],\n",
       "       [194.34328 ],\n",
       "       [196.3366  ],\n",
       "       [196.3366  ],\n",
       "       [236.20319 ],\n",
       "       [235.20653 ],\n",
       "       [229.22656 ],\n",
       "       [243.17987 ],\n",
       "       [264.1098  ],\n",
       "       [272.0831  ],\n",
       "       [237.19984 ],\n",
       "       [211.28658 ],\n",
       "       [180.38997 ],\n",
       "       [201.31992 ],\n",
       "       [204.30992 ],\n",
       "       [188.36328 ],\n",
       "       [235.20653 ],\n",
       "       [227.23318 ],\n",
       "       [234.20987 ],\n",
       "       [264.1098  ],\n",
       "       [301.98312 ],\n",
       "       [293.0131  ],\n",
       "       [259.1265  ],\n",
       "       [229.22656 ],\n",
       "       [203.31323 ],\n",
       "       [229.22656 ],\n",
       "       [242.18318 ],\n",
       "       [233.2132  ],\n",
       "       [267.09976 ],\n",
       "       [269.0931  ],\n",
       "       [270.0898  ],\n",
       "       [314.93973 ],\n",
       "       [363.77625 ],\n",
       "       [346.833   ],\n",
       "       [311.94974 ],\n",
       "       [274.07648 ],\n",
       "       [237.19984 ],\n",
       "       [278.06314 ],\n",
       "       [284.0431  ],\n",
       "       [277.06647 ],\n",
       "       [316.93304 ],\n",
       "       [312.94638 ],\n",
       "       [317.92972 ],\n",
       "       [373.74295 ],\n",
       "       [412.61288 ],\n",
       "       [404.63956 ],\n",
       "       [354.80634 ],\n",
       "       [305.96973 ]], dtype=float32)"
      ]
     },
     "execution_count": 32,
     "metadata": {},
     "output_type": "execute_result"
    }
   ],
   "source": [
    "train_predict"
   ]
  },
  {
   "cell_type": "code",
   "execution_count": 35,
   "id": "51f46b0d",
   "metadata": {},
   "outputs": [
    {
     "data": {
      "text/plain": [
       "23.116178254704373"
      ]
     },
     "execution_count": 35,
     "metadata": {},
     "output_type": "execute_result"
    }
   ],
   "source": [
    "### calculate RMSE performance metrics\n",
    "import math\n",
    "from sklearn.metrics import mean_squared_error\n",
    "math.sqrt(mean_squared_error(y_train,train_predict))"
   ]
  },
  {
   "cell_type": "code",
   "execution_count": 36,
   "id": "1e830ec2",
   "metadata": {},
   "outputs": [
    {
     "data": {
      "text/plain": [
       "48.591393182567224"
      ]
     },
     "execution_count": 36,
     "metadata": {},
     "output_type": "execute_result"
    }
   ],
   "source": [
    "## test data metrics\n",
    "math.sqrt(mean_squared_error(y_test,test_predict))"
   ]
  },
  {
   "cell_type": "code",
   "execution_count": 41,
   "id": "c4c300d8",
   "metadata": {},
   "outputs": [
    {
     "data": {
      "image/png": "[encoded data removed]",
      "text/plain": [
       "<Figure size 432x288 with 1 Axes>"
      ]
     },
     "metadata": {
      "needs_background": "light"
     },
     "output_type": "display_data"
    }
   ],
   "source": [
    "# generate predictions for training\n",
    "import numpy\n",
    "\n",
    "trainPredict = model.predict(X_train)\n",
    "testPredict = model.predict(X_test)\n",
    "# shift train predictions for plotting\n",
    "trainPredictPlot = numpy.empty_like(dataset)\n",
    "trainPredictPlot[:, :] = numpy.nan\n",
    "trainPredictPlot[loock_back:len(trainPredict)+loock_back, :] = trainPredict\n",
    "# shift test predictions for plotting\n",
    "testPredictPlot = numpy.empty_like(dataset)\n",
    "testPredictPlot[:, :] = numpy.nan\n",
    "testPredictPlot[len(trainPredict)+(loock_back*2)+1:len(dataset)-1, :] = testPredict\n",
    "# plot baseline and predictions\n",
    "plt.plot(dataset)\n",
    "plt.plot(trainPredictPlot)\n",
    "plt.plot(testPredictPlot)\n",
    "plt.show()"
   ]
  },
  {
   "cell_type": "code",
   "execution_count": null,
   "id": "320aef06",
   "metadata": {},
   "outputs": [],
   "source": []
  }
 ],
 "metadata": {
  "kernelspec": {
   "display_name": "Python 3",
   "language": "python",
   "name": "python3"
  },
  "language_info": {
   "codemirror_mode": {
    "name": "ipython",
    "version": 3
   },
   "file_extension": ".py",
   "mimetype": "text/x-python",
   "name": "python",
   "nbconvert_exporter": "python",
   "pygments_lexer": "ipython3",
   "version": "3.9.5"
  }
 },
 "nbformat": 4,
 "nbformat_minor": 5
}
